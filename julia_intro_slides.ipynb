{
 "cells": [
  {
   "cell_type": "markdown",
   "metadata": {
    "slideshow": {
     "slide_type": "slide"
    }
   },
   "source": [
    "# Introduction to Julia\n",
    "\n",
    "#### John Pearson\n",
    "#### StatML Group Meeting\n",
    "#### October 8, 2015"
   ]
  },
  {
   "cell_type": "markdown",
   "metadata": {
    "slideshow": {
     "slide_type": "slide"
    }
   },
   "source": [
    "# What is Julia?\n",
    "\n",
    "- new programming language (public since 2012)\n",
    "- brought to you by MIT, Julia Computing\n",
    "- focused on scientific computing applications\n",
    "- aims to be a high-level prototyping language that is also fast enough for serious simulation\n",
    "    - as easy to learn and flexible as Python or R\n",
    "    - within 2x the speed of C, C++, or FORTRAN\n",
    "- Currently (almost) 0.4, with very active developer community (more later)\n"
   ]
  },
  {
   "cell_type": "markdown",
   "metadata": {
    "slideshow": {
     "slide_type": "slide"
    }
   },
   "source": [
    "# Reasons to Consider Julia\n",
    "\n",
    "- you mostly write your own algorithms\n",
    "- you need to write code that is very fast\n",
    "- you’d like to prototype and optimize within the same language\n",
    "- you want zero boilerplate calls to C, Python (and soon C++)\n",
    "- you need powerful metaprogramming/macros\n",
    "- you want access to state-of-the-art automatic differentiation and optimization\n",
    "- you want to use Greek letters in variable names\n",
    "- you are interested in programming language design\n",
    "- you want to get in on the ground floor\n"
   ]
  },
  {
   "cell_type": "markdown",
   "metadata": {
    "slideshow": {
     "slide_type": "slide"
    }
   },
   "source": [
    "# Reasons Julia may not be for you (yet)\n",
    "\n",
    "- you mostly use packages written by others\n",
    "- you rely critically on several packages that aren't available\n",
    "- you don’t have much need to optimize your code\n",
    "- you perform mostly data analysis and model building, as opposed to algorithm development\n",
    "- you prioritize stability and reliability \n",
    "    - (or don’t write a lot of tests for your own code)\n",
    "- you don’t want to devote time to keeping up with changes\n",
    "- you have zero background with compiled languages"
   ]
  },
  {
   "cell_type": "markdown",
   "metadata": {
    "slideshow": {
     "slide_type": "slide"
    }
   },
   "source": [
    "# What makes Julia different?\n",
    "\n",
    "- just in time (JIT) compilation\n",
    "- rich type system\n",
    "- multiple dispatch\n",
    "- metaprogramming (programs that write programs: think C macros, STAN)\n",
    "- no more fear of writing loops\n",
    "\n",
    "More on each of these later!"
   ]
  },
  {
   "cell_type": "markdown",
   "metadata": {
    "slideshow": {
     "slide_type": "slide"
    }
   },
   "source": [
    "# Learning Julia\n",
    "\n",
    "- [Julia homepage](http://julialang.org/)\n",
    "- [Learning resources](http://julialang.org/learning/)\n",
    "- [Docs](http://julia.readthedocs.org/en/release-0.4/) \n",
    "    - more comprehensive and up-to-date than most other info\n",
    "- [JuliaBox](www.juliabox.org) will let you try out Julia in a Jupyter notebook without an install\n",
    "- [YouTube](https://www.youtube.com/user/JuliaLanguage)\n",
    "- [GitHub](https://github.com/JuliaLang/julia)\n",
    "    - this is where most of the development discussion takes place\n",
    "    - being GitHub-friendly currently important\n",
    "- [julia-users list](https://groups.google.com/forum/#!forum/julia-users)"
   ]
  },
  {
   "cell_type": "markdown",
   "metadata": {
    "slideshow": {
     "slide_type": "slide"
    }
   },
   "source": [
    "# Just-in-time (JIT) compilation\n",
    "\n",
    "- compilers transform written code to machine code\n",
    "    - much faster\n",
    "    - typically a separate step\n",
    "- JIT compilers work at runtime\n",
    "    - can be very fast with modern methods\n",
    "- Julia uses [LLVM](http://llvm.org/) as a backend"
   ]
  },
  {
   "cell_type": "markdown",
   "metadata": {
    "slideshow": {
     "slide_type": "subslide"
    }
   },
   "source": [
    "# [The Julia compilation process](http://blog.leahhanson.us/julia-introspects.html)\n",
    "\n",
    "- Parsing (Abstract Syntax Tree; AST)\n",
    "    - macro expansion\n",
    "- Code lowering\n",
    "- Code typing\n",
    "- LLVM\n",
    "- machine code\n",
    "\n"
   ]
  },
  {
   "cell_type": "markdown",
   "metadata": {
    "slideshow": {
     "slide_type": "slide"
    }
   },
   "source": [
    "# Julia's type system\n",
    "\n",
    "- variables in code have types (int, float, etc.)\n",
    "- compilers use type information to generate efficient code\n",
    "- like objects, but focus on data, not behavior\n",
    "    - [Execution in the Kingdom of Nouns](http://steve-yegge.blogspot.com/2006/03/execution-in-kingdom-of-nouns.html)\n",
    "- key to understanding how Julia code is organized and what makes it fast"
   ]
  },
  {
   "cell_type": "markdown",
   "metadata": {
    "slideshow": {
     "slide_type": "subslide"
    }
   },
   "source": [
    "# More on types\n",
    "\n",
    "- two types of types:\n",
    "    - Abstract: \n",
    "        - never instantiated\n",
    "        - tree structure (no multiple inheritance)\n",
    "    - Concrete:\n",
    "        - only \"leaf types\"\n",
    "        - fast, optimized code\n",
    "- key functions:\n",
    "    - `typeof`\n",
    "    - `super` and `subtypes`\n",
    "    - `::` and `<:`"
   ]
  },
  {
   "cell_type": "code",
   "execution_count": 1,
   "metadata": {
    "collapsed": false,
    "slideshow": {
     "slide_type": "subslide"
    }
   },
   "outputs": [
    {
     "data": {
      "text/plain": [
       "Int64"
      ]
     },
     "execution_count": 1,
     "metadata": {},
     "output_type": "execute_result"
    }
   ],
   "source": [
    "typeof(1)"
   ]
  },
  {
   "cell_type": "code",
   "execution_count": 2,
   "metadata": {
    "collapsed": false
   },
   "outputs": [
    {
     "data": {
      "text/plain": [
       "Float64"
      ]
     },
     "execution_count": 2,
     "metadata": {},
     "output_type": "execute_result"
    }
   ],
   "source": [
    "typeof(1.1)"
   ]
  },
  {
   "cell_type": "markdown",
   "metadata": {},
   "source": [
    "Strings always have \" \", chars have ' '"
   ]
  },
  {
   "cell_type": "code",
   "execution_count": 3,
   "metadata": {
    "collapsed": false
   },
   "outputs": [
    {
     "data": {
      "text/plain": [
       "Char"
      ]
     },
     "execution_count": 3,
     "metadata": {},
     "output_type": "execute_result"
    }
   ],
   "source": [
    "typeof('a')"
   ]
  },
  {
   "cell_type": "code",
   "execution_count": 4,
   "metadata": {
    "collapsed": false
   },
   "outputs": [
    {
     "data": {
      "text/plain": [
       "ASCIIString"
      ]
     },
     "execution_count": 4,
     "metadata": {},
     "output_type": "execute_result"
    }
   ],
   "source": [
    "typeof(\"alphabet\")"
   ]
  },
  {
   "cell_type": "markdown",
   "metadata": {
    "slideshow": {
     "slide_type": "subslide"
    }
   },
   "source": [
    "We can find out about the type tree:"
   ]
  },
  {
   "cell_type": "code",
   "execution_count": 5,
   "metadata": {
    "collapsed": false
   },
   "outputs": [
    {
     "data": {
      "text/plain": [
       "AbstractFloat"
      ]
     },
     "execution_count": 5,
     "metadata": {},
     "output_type": "execute_result"
    }
   ],
   "source": [
    "super(Float64)"
   ]
  },
  {
   "cell_type": "code",
   "execution_count": 6,
   "metadata": {
    "collapsed": false
   },
   "outputs": [
    {
     "data": {
      "text/plain": [
       "Real"
      ]
     },
     "execution_count": 6,
     "metadata": {},
     "output_type": "execute_result"
    }
   ],
   "source": [
    "super(AbstractFloat)"
   ]
  },
  {
   "cell_type": "code",
   "execution_count": 7,
   "metadata": {
    "collapsed": false
   },
   "outputs": [
    {
     "data": {
      "text/plain": [
       "Number"
      ]
     },
     "execution_count": 7,
     "metadata": {},
     "output_type": "execute_result"
    }
   ],
   "source": [
    "super(Real)"
   ]
  },
  {
   "cell_type": "code",
   "execution_count": 8,
   "metadata": {
    "collapsed": false
   },
   "outputs": [
    {
     "data": {
      "text/plain": [
       "Any"
      ]
     },
     "execution_count": 8,
     "metadata": {},
     "output_type": "execute_result"
    }
   ],
   "source": [
    "super(Number)"
   ]
  },
  {
   "cell_type": "code",
   "execution_count": 9,
   "metadata": {
    "collapsed": false
   },
   "outputs": [
    {
     "data": {
      "text/plain": [
       "Any"
      ]
     },
     "execution_count": 9,
     "metadata": {},
     "output_type": "execute_result"
    }
   ],
   "source": [
    "super(Any)"
   ]
  },
  {
   "cell_type": "markdown",
   "metadata": {
    "slideshow": {
     "slide_type": "subslide"
    }
   },
   "source": [
    "More on the type tree:\n",
    "\n",
    "Everything is a subtype of `Any`:"
   ]
  },
  {
   "cell_type": "code",
   "execution_count": 10,
   "metadata": {
    "collapsed": false
   },
   "outputs": [
    {
     "data": {
      "text/plain": [
       "241-element Array{Any,1}:\n",
       " AbstractArray{T,N}                        \n",
       " AbstractChannel{T}                        \n",
       " AbstractRNG                               \n",
       " AbstractString                            \n",
       " Any                                       \n",
       " Associative{K,V}                          \n",
       " Base.AbstractCmd                          \n",
       " Base.AbstractMsg                          \n",
       " Base.AbstractZipIterator                  \n",
       " Base.Cartesian.LReplace{S<:AbstractString}\n",
       " Base.Combinations{T}                      \n",
       " Base.Count{S<:Number}                     \n",
       " Base.Cycle{I}                             \n",
       " ⋮                                         \n",
       " TypeVar                                   \n",
       " Type{T}                                   \n",
       " UniformScaling{T<:Number}                 \n",
       " Val{T}                                    \n",
       " Vararg{T}                                 \n",
       " VersionNumber                             \n",
       " Void                                      \n",
       " WeakRef                                   \n",
       " WorkerConfig                              \n",
       " ZMQ.Context                               \n",
       " ZMQ.MsgPadding                            \n",
       " ZMQ.Socket                                "
      ]
     },
     "execution_count": 10,
     "metadata": {},
     "output_type": "execute_result"
    }
   ],
   "source": [
    "subtypes(Any)"
   ]
  },
  {
   "cell_type": "markdown",
   "metadata": {
    "slideshow": {
     "slide_type": "subslide"
    }
   },
   "source": [
    "We can also test type relationships"
   ]
  },
  {
   "cell_type": "code",
   "execution_count": 11,
   "metadata": {
    "collapsed": false
   },
   "outputs": [
    {
     "data": {
      "text/plain": [
       "true"
      ]
     },
     "execution_count": 11,
     "metadata": {},
     "output_type": "execute_result"
    }
   ],
   "source": [
    "isa(1.1, Float64)"
   ]
  },
  {
   "cell_type": "code",
   "execution_count": 12,
   "metadata": {
    "collapsed": false
   },
   "outputs": [
    {
     "data": {
      "text/plain": [
       "true"
      ]
     },
     "execution_count": 12,
     "metadata": {},
     "output_type": "execute_result"
    }
   ],
   "source": [
    "Number <: Any"
   ]
  },
  {
   "cell_type": "code",
   "execution_count": 13,
   "metadata": {
    "collapsed": false
   },
   "outputs": [
    {
     "data": {
      "text/plain": [
       "true"
      ]
     },
     "execution_count": 13,
     "metadata": {},
     "output_type": "execute_result"
    }
   ],
   "source": [
    "Real <: Number"
   ]
  },
  {
   "cell_type": "code",
   "execution_count": 14,
   "metadata": {
    "collapsed": false
   },
   "outputs": [
    {
     "data": {
      "text/plain": [
       "true"
      ]
     },
     "execution_count": 14,
     "metadata": {},
     "output_type": "execute_result"
    }
   ],
   "source": [
    "Integer <: Real"
   ]
  },
  {
   "cell_type": "code",
   "execution_count": 15,
   "metadata": {
    "collapsed": false
   },
   "outputs": [
    {
     "data": {
      "text/plain": [
       "false"
      ]
     },
     "execution_count": 15,
     "metadata": {},
     "output_type": "execute_result"
    }
   ],
   "source": [
    "Integer <: AbstractFloat"
   ]
  },
  {
   "cell_type": "markdown",
   "metadata": {
    "slideshow": {
     "slide_type": "subslide"
    }
   },
   "source": [
    "Finally, some types can have parameters (like template objects in C++/Java):"
   ]
  },
  {
   "cell_type": "code",
   "execution_count": 16,
   "metadata": {
    "collapsed": false
   },
   "outputs": [
    {
     "data": {
      "text/plain": [
       "10-element Array{Int64,1}:\n",
       "  1\n",
       "  2\n",
       "  3\n",
       "  4\n",
       "  5\n",
       "  6\n",
       "  7\n",
       "  8\n",
       "  9\n",
       " 10"
      ]
     },
     "execution_count": 16,
     "metadata": {},
     "output_type": "execute_result"
    }
   ],
   "source": [
    "aa = [1:10]"
   ]
  },
  {
   "cell_type": "code",
   "execution_count": 17,
   "metadata": {
    "collapsed": false
   },
   "outputs": [
    {
     "data": {
      "text/plain": [
       "Array{Int64,1}"
      ]
     },
     "execution_count": 17,
     "metadata": {},
     "output_type": "execute_result"
    }
   ],
   "source": [
    "typeof(aa)"
   ]
  },
  {
   "cell_type": "code",
   "execution_count": 18,
   "metadata": {
    "collapsed": false
   },
   "outputs": [
    {
     "data": {
      "text/plain": [
       "Array{Float64,2}"
      ]
     },
     "execution_count": 18,
     "metadata": {},
     "output_type": "execute_result"
    }
   ],
   "source": [
    "typeof(rand(5, 5))"
   ]
  },
  {
   "cell_type": "markdown",
   "metadata": {
    "slideshow": {
     "slide_type": "slide"
    }
   },
   "source": [
    "# Multiple Dispatch\n",
    "\n",
    "If Julia's types are just data, not objects, how do we encode type behavior?"
   ]
  },
  {
   "cell_type": "markdown",
   "metadata": {},
   "source": [
    "Julia (like R, C++ operators), choosing among *different* functions of the *same name* based on the types of arguments. This is called **multiple dispatch**."
   ]
  },
  {
   "cell_type": "code",
   "execution_count": 19,
   "metadata": {
    "collapsed": false,
    "slideshow": {
     "slide_type": "subslide"
    }
   },
   "outputs": [
    {
     "name": "stdout",
     "output_type": "stream",
     "text": [
      "search: "
     ]
    },
    {
     "data": {
      "text/latex": [
       "\\begin{verbatim}\n",
       "imag(z)\n",
       "\\end{verbatim}\n",
       "Return the imaginary part of the complex number \\texttt{z}\n"
      ],
      "text/markdown": [
       "```\n",
       "imag(z)\n",
       "```\n",
       "\n",
       "Return the imaginary part of the complex number `z`\n"
      ],
      "text/plain": [
       "```\n",
       "imag(z)\n",
       "```\n",
       "\n",
       "Return the imaginary part of the complex number `z`\n"
      ]
     },
     "execution_count": 19,
     "metadata": {},
     "output_type": "execute_result"
    }
   ],
   "source": [
    "?imag"
   ]
  },
  {
   "cell_type": "code",
   "execution_count": 20,
   "metadata": {
    "collapsed": false
   },
   "outputs": [
    {
     "name": "stdout",
     "output_type": "stream",
     "text": [
      "imag UniformScaling ismatch ismarked minmax eigmax BitMatrix indmax\n",
      "\n"
     ]
    },
    {
     "data": {
      "text/html": [
       "15 methods for generic function <b>imag</b>:<ul><li> imag(z::<b>Complex{T<:Real}</b>) at <a href=\"https://github.com/JuliaLang/julia/tree/483d54827262bf63fe3f3f3767040a95b647559f/base/complex.jl#L32\" target=\"_blank\">complex.jl:32</a><li> imag(x::<b>Real</b>) at <a href=\"https://github.com/JuliaLang/julia/tree/483d54827262bf63fe3f3f3767040a95b647559f/base/complex.jl#L34\" target=\"_blank\">complex.jl:34</a><li> imag<i>{T<:Real}</i>(x::<b>Union{DenseArray{T<:Real,N},SubArray{T<:Real,N,A<:DenseArray{T,N},I<:Tuple{Vararg{Union{Colon,Int64,Range{Int64}}}},LD}}</b>) at <a href=\"https://github.com/JuliaLang/julia/tree/483d54827262bf63fe3f3f3767040a95b647559f/base/arraymath.jl#L29\" target=\"_blank\">arraymath.jl:29</a><li> imag(A::<b>Union{DenseArray{T,N},SubArray{T,N,A<:DenseArray{T,N},I<:Tuple{Vararg{Union{Colon,Int64,Range{Int64}}}},LD}}</b>) at <a href=\"https://github.com/JuliaLang/julia/tree/483d54827262bf63fe3f3f3767040a95b647559f/base/arraymath.jl#L27\" target=\"_blank\">arraymath.jl:27</a><li> imag(M::<b>SymTridiagonal{T}</b>) at <a href=\"https://github.com/JuliaLang/julia/tree/483d54827262bf63fe3f3f3767040a95b647559f/base/linalg/tridiag.jl#L63\" target=\"_blank\">linalg/tridiag.jl:63</a><li> imag(M::<b>Tridiagonal{T}</b>) at <a href=\"https://github.com/JuliaLang/julia/tree/483d54827262bf63fe3f3f3767040a95b647559f/base/linalg/tridiag.jl#L320\" target=\"_blank\">linalg/tridiag.jl:320</a><li> imag(A::<b>UpperTriangular{T,S<:AbstractArray{T,2}}</b>) at <a href=\"https://github.com/JuliaLang/julia/tree/483d54827262bf63fe3f3f3767040a95b647559f/base/linalg/triangular.jl#L46\" target=\"_blank\">linalg/triangular.jl:46</a><li> imag(A::<b>LowerTriangular{T,S<:AbstractArray{T,2}}</b>) at <a href=\"https://github.com/JuliaLang/julia/tree/483d54827262bf63fe3f3f3767040a95b647559f/base/linalg/triangular.jl#L47\" target=\"_blank\">linalg/triangular.jl:47</a><li> imag(A::<b>Base.LinAlg.UnitLowerTriangular{T,S<:AbstractArray{T,2}}</b>) at <a href=\"https://github.com/JuliaLang/julia/tree/483d54827262bf63fe3f3f3767040a95b647559f/base/linalg/triangular.jl#L48\" target=\"_blank\">linalg/triangular.jl:48</a><li> imag(A::<b>Base.LinAlg.UnitUpperTriangular{T,S<:AbstractArray{T,2}}</b>) at <a href=\"https://github.com/JuliaLang/julia/tree/483d54827262bf63fe3f3f3767040a95b647559f/base/linalg/triangular.jl#L49\" target=\"_blank\">linalg/triangular.jl:49</a><li> imag(D::<b>Diagonal{T}</b>) at <a href=\"https://github.com/JuliaLang/julia/tree/483d54827262bf63fe3f3f3767040a95b647559f/base/linalg/diagonal.jl#L60\" target=\"_blank\">linalg/diagonal.jl:60</a><li> imag(M::<b>Bidiagonal{T}</b>) at <a href=\"https://github.com/JuliaLang/julia/tree/483d54827262bf63fe3f3f3767040a95b647559f/base/linalg/bidiag.jl#L113\" target=\"_blank\">linalg/bidiag.jl:113</a><li> imag<i>{Tv<:Complex{T<:Real},Ti}</i>(A::<b>SparseMatrixCSC{Tv<:Complex{T<:Real},Ti}</b>) at <a href=\"https://github.com/JuliaLang/julia/tree/483d54827262bf63fe3f3f3767040a95b647559f/base/sparse/sparsematrix.jl#L548\" target=\"_blank\">sparse/sparsematrix.jl:548</a><li> imag<i>{Tv<:Number,Ti}</i>(A::<b>SparseMatrixCSC{Tv<:Number,Ti}</b>) at <a href=\"https://github.com/JuliaLang/julia/tree/483d54827262bf63fe3f3f3767040a95b647559f/base/sparse/sparsematrix.jl#L552\" target=\"_blank\">sparse/sparsematrix.jl:552</a><li> imag<i>{T<:Real}</i>(x::<b>AbstractArray{T<:Real,N}</b>) at <a href=\"https://github.com/JuliaLang/julia/tree/483d54827262bf63fe3f3f3767040a95b647559f/base/abstractarraymath.jl#L47\" target=\"_blank\">abstractarraymath.jl:47</a></ul>"
      ],
      "text/plain": [
       "# 15 methods for generic function \"imag\":\n",
       "imag(z::Complex{T<:Real}) at complex.jl:32\n",
       "imag(x::Real) at complex.jl:34\n",
       "imag{T<:Real}(x::Union{DenseArray{T<:Real,N},SubArray{T<:Real,N,A<:DenseArray{T,N},I<:Tuple{Vararg{Union{Colon,Int64,Range{Int64}}}},LD}}) at arraymath.jl:29\n",
       "imag(A::Union{DenseArray{T,N},SubArray{T,N,A<:DenseArray{T,N},I<:Tuple{Vararg{Union{Colon,Int64,Range{Int64}}}},LD}}) at arraymath.jl:27\n",
       "imag(M::SymTridiagonal{T}) at linalg/tridiag.jl:63\n",
       "imag(M::Tridiagonal{T}) at linalg/tridiag.jl:320\n",
       "imag(A::UpperTriangular{T,S<:AbstractArray{T,2}}) at linalg/triangular.jl:46\n",
       "imag(A::LowerTriangular{T,S<:AbstractArray{T,2}}) at linalg/triangular.jl:47\n",
       "imag(A::Base.LinAlg.UnitLowerTriangular{T,S<:AbstractArray{T,2}}) at linalg/triangular.jl:48\n",
       "imag(A::Base.LinAlg.UnitUpperTriangular{T,S<:AbstractArray{T,2}}) at linalg/triangular.jl:49\n",
       "imag(D::Diagonal{T}) at linalg/diagonal.jl:60\n",
       "imag(M::Bidiagonal{T}) at linalg/bidiag.jl:113\n",
       "imag{Tv<:Complex{T<:Real},Ti}(A::SparseMatrixCSC{Tv<:Complex{T<:Real},Ti}) at sparse/sparsematrix.jl:548\n",
       "imag{Tv<:Number,Ti}(A::SparseMatrixCSC{Tv<:Number,Ti}) at sparse/sparsematrix.jl:552\n",
       "imag{T<:Real}(x::AbstractArray{T<:Real,N}) at abstractarraymath.jl:47"
      ]
     },
     "execution_count": 20,
     "metadata": {},
     "output_type": "execute_result"
    }
   ],
   "source": [
    "methods(imag)"
   ]
  },
  {
   "cell_type": "markdown",
   "metadata": {
    "slideshow": {
     "slide_type": "subslide"
    }
   },
   "source": [
    "So, for instance:"
   ]
  },
  {
   "cell_type": "code",
   "execution_count": 21,
   "metadata": {
    "collapsed": false
   },
   "outputs": [
    {
     "data": {
      "text/plain": [
       "foo (generic function with 2 methods)"
      ]
     },
     "execution_count": 21,
     "metadata": {},
     "output_type": "execute_result"
    }
   ],
   "source": [
    "function foo(x::AbstractFloat)\n",
    "    x^2\n",
    "end\n",
    "\n",
    "function foo(x::Integer)\n",
    "    x/2\n",
    "end"
   ]
  },
  {
   "cell_type": "code",
   "execution_count": 22,
   "metadata": {
    "collapsed": false
   },
   "outputs": [
    {
     "data": {
      "text/plain": [
       "4.0"
      ]
     },
     "execution_count": 22,
     "metadata": {},
     "output_type": "execute_result"
    }
   ],
   "source": [
    "foo(2.0)"
   ]
  },
  {
   "cell_type": "code",
   "execution_count": 23,
   "metadata": {
    "collapsed": false
   },
   "outputs": [
    {
     "data": {
      "text/plain": [
       "1.0"
      ]
     },
     "execution_count": 23,
     "metadata": {},
     "output_type": "execute_result"
    }
   ],
   "source": [
    "foo(2)"
   ]
  },
  {
   "cell_type": "markdown",
   "metadata": {
    "slideshow": {
     "slide_type": "slide"
    }
   },
   "source": [
    "# But surely this is madness!\n",
    "\n",
    "How do we avoid combinatorial explosion in definitions for functions that take multiple arguments?"
   ]
  },
  {
   "cell_type": "markdown",
   "metadata": {},
   "source": [
    "Julia has two complementary means of dealing with this:\n",
    "- conversion: define a `convert` method telling Julia how to translate one data type to another\n",
    "- promotion: define `promote_rule` and `promote_type`, telling Julia how to treat two *types* on an equal footing"
   ]
  },
  {
   "cell_type": "markdown",
   "metadata": {
    "slideshow": {
     "slide_type": "subslide"
    }
   },
   "source": [
    "Most conversions happen the way you would expect:"
   ]
  },
  {
   "cell_type": "code",
   "execution_count": 24,
   "metadata": {
    "collapsed": false
   },
   "outputs": [
    {
     "data": {
      "text/plain": [
       "1.0"
      ]
     },
     "execution_count": 24,
     "metadata": {},
     "output_type": "execute_result"
    }
   ],
   "source": [
    "convert(Float64, 1)"
   ]
  },
  {
   "cell_type": "code",
   "execution_count": 25,
   "metadata": {
    "collapsed": false
   },
   "outputs": [
    {
     "data": {
      "text/plain": [
       "1.5 + 0.0im"
      ]
     },
     "execution_count": 25,
     "metadata": {},
     "output_type": "execute_result"
    }
   ],
   "source": [
    "convert(Complex, 1.5)"
   ]
  },
  {
   "cell_type": "code",
   "execution_count": 26,
   "metadata": {
    "collapsed": false
   },
   "outputs": [
    {
     "data": {
      "text/plain": [
       "(1.0,2.5)"
      ]
     },
     "execution_count": 26,
     "metadata": {},
     "output_type": "execute_result"
    }
   ],
   "source": [
    "promote(1, 2.5)"
   ]
  },
  {
   "cell_type": "code",
   "execution_count": 27,
   "metadata": {
    "collapsed": false
   },
   "outputs": [
    {
     "data": {
      "text/plain": [
       "(1.0 + 0.0im,0.0 + 0.5im)"
      ]
     },
     "execution_count": 27,
     "metadata": {},
     "output_type": "execute_result"
    }
   ],
   "source": [
    "promote(1, 0.5im)"
   ]
  },
  {
   "cell_type": "markdown",
   "metadata": {
    "slideshow": {
     "slide_type": "subslide"
    }
   },
   "source": [
    "But we can write our own conversion rules:"
   ]
  },
  {
   "cell_type": "code",
   "execution_count": 28,
   "metadata": {
    "collapsed": true
   },
   "outputs": [],
   "source": [
    "type Lefty\n",
    "    x::Number\n",
    "end\n",
    "\n",
    "type Righty\n",
    "    x::Number\n",
    "end"
   ]
  },
  {
   "cell_type": "code",
   "execution_count": 29,
   "metadata": {
    "collapsed": false
   },
   "outputs": [
    {
     "data": {
      "text/plain": [
       "Righty(5)"
      ]
     },
     "execution_count": 29,
     "metadata": {},
     "output_type": "execute_result"
    }
   ],
   "source": [
    "aa = Righty(5)"
   ]
  },
  {
   "cell_type": "code",
   "execution_count": 30,
   "metadata": {
    "collapsed": false
   },
   "outputs": [
    {
     "data": {
      "text/plain": [
       "convert (generic function with 536 methods)"
      ]
     },
     "execution_count": 30,
     "metadata": {},
     "output_type": "execute_result"
    }
   ],
   "source": [
    "import Base.convert\n",
    "convert(::Type{Lefty}, r::Righty) = Lefty(-r.x)"
   ]
  },
  {
   "cell_type": "code",
   "execution_count": 31,
   "metadata": {
    "collapsed": false
   },
   "outputs": [
    {
     "data": {
      "text/plain": [
       "Lefty(-5)"
      ]
     },
     "execution_count": 31,
     "metadata": {},
     "output_type": "execute_result"
    }
   ],
   "source": [
    "convert(Lefty, aa)"
   ]
  },
  {
   "cell_type": "markdown",
   "metadata": {
    "slideshow": {
     "slide_type": "subslide"
    }
   },
   "source": [
    "Promotion works by describing what types of \"least common denonimators\" are possible between types."
   ]
  },
  {
   "cell_type": "markdown",
   "metadata": {},
   "source": [
    "In the case of a Rational type for rational numbers, we might define"
   ]
  },
  {
   "cell_type": "code",
   "execution_count": 32,
   "metadata": {
    "collapsed": false
   },
   "outputs": [
    {
     "data": {
      "text/plain": [
       "promote_rule (generic function with 2 methods)"
      ]
     },
     "execution_count": 32,
     "metadata": {},
     "output_type": "execute_result"
    }
   ],
   "source": [
    "promote_rule{T<:Integer}(::Type{Rational{T}}, ::Type{T}) = Rational{T}\n",
    "promote_rule{T<:Integer,S<:Integer}(::Type{Rational{T}}, ::Type{S}) = Rational{promote_type(T,S)}"
   ]
  },
  {
   "cell_type": "markdown",
   "metadata": {},
   "source": [
    "Rough guide: `promote` is about conversion *strategy*, while `convert` is about *implementation*"
   ]
  },
  {
   "cell_type": "markdown",
   "metadata": {
    "slideshow": {
     "slide_type": "slide"
    }
   },
   "source": [
    "# Metaprogramming\n",
    "\n",
    "Metaprogramming (loosely) refers to the idea of programs writing programs."
   ]
  },
  {
   "cell_type": "markdown",
   "metadata": {},
   "source": [
    "In the case of Julia, this means **macros**. Macros are code rewritings that happen at parse time but prior to compilation."
   ]
  },
  {
   "cell_type": "markdown",
   "metadata": {},
   "source": [
    "It also means that Julia is a language capable of representing and manipulating *its own code*."
   ]
  },
  {
   "cell_type": "markdown",
   "metadata": {
    "slideshow": {
     "slide_type": "subslide"
    }
   },
   "source": [
    "Macros are defined by the `macro` keyword and invoked by the `@` sign. Think of macros as ways to generate code."
   ]
  },
  {
   "cell_type": "code",
   "execution_count": 33,
   "metadata": {
    "collapsed": false
   },
   "outputs": [],
   "source": [
    "# make a macro that reproduces the map command\n",
    "\n",
    "# Map an operation f over an array A\n",
    "macro lame_map(f, A)\n",
    "    # here, $A is the *symbolic value* of A at parse time \n",
    "    # (i.e., the variable name we feed in)\n",
    "    # :( ) \"quotes\" the code so we return an *expression*\n",
    "    # to be inserted into the syntax tree\n",
    "    :([$f(a) for a in $A])\n",
    "end"
   ]
  },
  {
   "cell_type": "code",
   "execution_count": 34,
   "metadata": {
    "collapsed": false
   },
   "outputs": [
    {
     "data": {
      "text/plain": [
       "6-element Array{Any,1}:\n",
       "   1.0    \n",
       "   2.71828\n",
       "   7.38906\n",
       "  20.0855 \n",
       "  54.5982 \n",
       " 148.413  "
      ]
     },
     "execution_count": 34,
     "metadata": {},
     "output_type": "execute_result"
    }
   ],
   "source": [
    "aa = [0:5]\n",
    "\n",
    "@lame_map exp aa  # parens are optional when invoking macros"
   ]
  },
  {
   "cell_type": "markdown",
   "metadata": {
    "slideshow": {
     "slide_type": "subslide"
    }
   },
   "source": [
    "Another practical byproduct of this is that Julia has a `Symbol` variable type."
   ]
  },
  {
   "cell_type": "code",
   "execution_count": 35,
   "metadata": {
    "collapsed": false
   },
   "outputs": [
    {
     "data": {
      "text/plain": [
       "Int64"
      ]
     },
     "execution_count": 35,
     "metadata": {},
     "output_type": "execute_result"
    }
   ],
   "source": [
    "x = 5\n",
    "\n",
    "typeof(x)"
   ]
  },
  {
   "cell_type": "code",
   "execution_count": 36,
   "metadata": {
    "collapsed": false
   },
   "outputs": [
    {
     "data": {
      "text/plain": [
       "Symbol"
      ]
     },
     "execution_count": 36,
     "metadata": {},
     "output_type": "execute_result"
    }
   ],
   "source": [
    "typeof(:x)"
   ]
  },
  {
   "cell_type": "code",
   "execution_count": 37,
   "metadata": {
    "collapsed": false
   },
   "outputs": [
    {
     "data": {
      "text/plain": [
       ":x"
      ]
     },
     "execution_count": 37,
     "metadata": {},
     "output_type": "execute_result"
    }
   ],
   "source": [
    "a = :x"
   ]
  },
  {
   "cell_type": "code",
   "execution_count": 38,
   "metadata": {
    "collapsed": false
   },
   "outputs": [
    {
     "name": "stdout",
     "output_type": "stream",
     "text": [
      "6\n"
     ]
    }
   ],
   "source": [
    "eval(:($a = 6))\n",
    "\n",
    "println(x)"
   ]
  },
  {
   "cell_type": "markdown",
   "metadata": {
    "slideshow": {
     "slide_type": "subslide"
    }
   },
   "source": [
    "This is a really important feature for being able to construct programs that write code."
   ]
  },
  {
   "cell_type": "markdown",
   "metadata": {},
   "source": [
    "It's how we tell the difference between the literal string `\"x\"` and the program variable `x`."
   ]
  },
  {
   "cell_type": "markdown",
   "metadata": {},
   "source": [
    "This allows us to write code in which the code itself is variable!"
   ]
  },
  {
   "cell_type": "markdown",
   "metadata": {},
   "source": [
    "This can result in a huge reduction in boilerplate, and is basically how BUGS and STAN work."
   ]
  },
  {
   "cell_type": "markdown",
   "metadata": {
    "slideshow": {
     "slide_type": "slide"
    }
   },
   "source": [
    "# Julia idioms\n",
    "\n",
    "> With Matlab and Python, every programming problem is an exercise in mining \n",
    "the standard library for (you hope) just the right functions for your \n",
    "problem, because any code that you write yourself will be slow. Julia \n",
    "doesn't have that problem, and often the most straightforward code is also \n",
    "the best code.\n",
    "\n",
    "> Steven G. Johnson on julia-users, October 6, 2015"
   ]
  },
  {
   "cell_type": "markdown",
   "metadata": {
    "slideshow": {
     "slide_type": "subslide"
    }
   },
   "source": [
    "# Rule of thumb 1: Write loops\n",
    "\n",
    "The Golden Rule of Matlab/Python/R programming is not to write loops, because loops are slow. In Julia, we write loops because they are easier for the compiler (and often us) to understand."
   ]
  },
  {
   "cell_type": "markdown",
   "metadata": {},
   "source": [
    "# Rule of thumb 2: Care about types\n",
    "\n",
    "Type inference is how Julia generates efficient code. If your function takes a variable that Julia can't infer a type for, it will be typed as `Any`. At that point, you might as well be writing Python."
   ]
  },
  {
   "cell_type": "markdown",
   "metadata": {},
   "source": [
    "Learn to use macros like `@code_warntype` to find out how Julia is parsing your code!"
   ]
  },
  {
   "cell_type": "markdown",
   "metadata": {
    "slideshow": {
     "slide_type": "subslide"
    }
   },
   "source": [
    "# Rule of thumb 3: If you care about performance, read up\n",
    "\n",
    "[Performance tips](http://julia.readthedocs.org/en/latest/manual/performance-tips/) will save your sanity. Learn a little bit about memory layout of arrays (C vs FORTRAN style) and when arrays are shared vs copied."
   ]
  },
  {
   "cell_type": "markdown",
   "metadata": {},
   "source": [
    "# Rule of thumb 4: Prepare for change\n",
    "\n",
    "Julia is a work in progress. The language is still undergoing big, breaking changes. [Arraymageddon](https://github.com/JuliaLang/julia/issues/13157) is coming. Caveat emptor."
   ]
  },
  {
   "cell_type": "markdown",
   "metadata": {
    "slideshow": {
     "slide_type": "subslide"
    }
   },
   "source": [
    "There are lots of examples of Julia code out there. Two from my own work:\n",
    "\n",
    "- I implemented a [Kalman filter](https://github.com/jmxpearson/laf/blob/master/julia/SStools.jl) on the way to implementing [locally adaptive factor processes](https://github.com/jmxpearson/laf).\n",
    "\n",
    "- I implemented the pruned exact linear time ([PELT](https://github.com/jmxpearson/cpgas/blob/master/pelt_integration_test.ipynb)) algorithm from [Killick et al.](http://www.tandfonline.com/doi/abs/10.1080/01621459.2012.737745)."
   ]
  },
  {
   "cell_type": "markdown",
   "metadata": {
    "slideshow": {
     "slide_type": "slide"
    }
   },
   "source": [
    "# From here\n",
    "\n",
    "- Julia is surprisingly easy to muck around with. It has a very nice [REPL](https://en.wikipedia.org/wiki/Read%E2%80%93eval%E2%80%93print_loop) that can be used for interactive work.\n",
    "\n",
    "- v0.4 should have an official release very soon. Some big changes from 0.3 to 0.4, so read up on the latter.\n",
    "\n",
    "- There are books in progress about Julia, but the best current source is still the [docs](http://julia.readthedocs.org/en/release-0.4/).\n",
    "\n",
    "- [Julia Statistics](https://github.com/JuliaStats) and [JuliaOpt](https://github.com/JuliaOpt) are strong, active package communities.\n",
    "\n",
    "- [Mocha.jl](https://github.com/pluskid/Mocha.jl) a Deep Learning framework, recently make Hacker News.\n",
    "\n",
    "- [STAN](https://github.com/goedman/Stan.jl) bindings are already available."
   ]
  }
 ],
 "metadata": {
  "celltoolbar": "Slideshow",
  "kernelspec": {
   "display_name": "Julia 0.4.0-rc3",
   "language": "julia",
   "name": "julia-0.4"
  },
  "language_info": {
   "file_extension": ".jl",
   "mimetype": "application/julia",
   "name": "julia",
   "version": "0.4.0"
  }
 },
 "nbformat": 4,
 "nbformat_minor": 0
}
