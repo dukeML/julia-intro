{
 "cells": [
  {
   "cell_type": "markdown",
   "metadata": {
    "slideshow": {
     "slide_type": "slide"
    }
   },
   "source": [
    "# Introduction to Julia\n",
    "\n",
    "#### John Pearson\n",
    "#### StatML Group Meeting\n",
    "#### October 8, 2015"
   ]
  },
  {
   "cell_type": "markdown",
   "metadata": {
    "slideshow": {
     "slide_type": "slide"
    }
   },
   "source": [
    "# What is Julia?\n",
    "\n",
    "- new programming language (public since 2012)\n",
    "- brought to you by MIT, Julia Computing\n",
    "- focused on scientific computing applications\n",
    "- aims to be a high-level prototyping language that is also fast enough for serious simulation\n",
    "    - as easy to learn and flexible as Python or R\n",
    "    - within 2x the speed of C, C++, or FORTRAN\n",
    "- Currently (almost) 0.4, with very active developer community (more later)\n"
   ]
  },
  {
   "cell_type": "markdown",
   "metadata": {
    "slideshow": {
     "slide_type": "slide"
    }
   },
   "source": [
    "# Reasons to Consider Julia\n",
    "\n",
    "- you mostly write your own algorithms\n",
    "- you need to write code that is very fast\n",
    "- you’d like to prototype and optimize within the same language\n",
    "- you want zero boilerplate calls to C, Python (and soon C++)\n",
    "- you need powerful metaprogramming/macros\n",
    "- you want access to state-of-the-art automatic differentiation and optimization\n",
    "- you want to use Greek letters in variable names\n",
    "- you are interested in programming language design\n",
    "- you want to get in on the ground floor\n"
   ]
  },
  {
   "cell_type": "markdown",
   "metadata": {
    "slideshow": {
     "slide_type": "slide"
    }
   },
   "source": [
    "# Reasons Julia may not be for you (yet)\n",
    "\n",
    "- you mostly use packages written by others\n",
    "- you rely critically on several packages that aren't available\n",
    "- you don’t have much need to optimize your code\n",
    "- you perform mostly data analysis and model building, as opposed to algorithm development\n",
    "- you prioritize stability and reliability \n",
    "    - (or don’t write a lot of tests for your own code)\n",
    "- you don’t want to devote time to keeping up with changes\n",
    "- you have zero background with compiled languages"
   ]
  },
  {
   "cell_type": "markdown",
   "metadata": {
    "slideshow": {
     "slide_type": "slide"
    }
   },
   "source": [
    "# What makes Julia different?\n",
    "\n",
    "- just in time (JIT) compilation\n",
    "- rich type system\n",
    "- multiple dispatch\n",
    "- metaprogramming (programs that write programs: think C macros, STAN)\n",
    "- no more fear of writing loops\n",
    "\n",
    "More on each of these later!"
   ]
  },
  {
   "cell_type": "markdown",
   "metadata": {
    "slideshow": {
     "slide_type": "slide"
    }
   },
   "source": [
    "# Learning Julia\n",
    "\n",
    "- [Julia homepage](http://julialang.org/)\n",
    "- [Learning resources](http://julialang.org/learning/)\n",
    "- [Docs](http://docs.julialang.org/en/release-0.3/) \n",
    "    - about to change to 0.4 \n",
    "    - more comprehensive and up-to-date than most other info\n",
    "- [YouTube](https://www.youtube.com/user/JuliaLanguage)\n",
    "- [GitHub](https://github.com/JuliaLang/julia)\n",
    "    - this is where most of the development discussion takes place\n",
    "    - being GitHub-friendly currently important\n",
    "- [julia-users list](https://groups.google.com/forum/#!forum/julia-users)"
   ]
  },
  {
   "cell_type": "code",
   "execution_count": null,
   "metadata": {
    "collapsed": true,
    "slideshow": {
     "slide_type": "slide"
    }
   },
   "outputs": [],
   "source": []
  }
 ],
 "metadata": {
  "celltoolbar": "Slideshow",
  "kernelspec": {
   "display_name": "Julia 0.4.0-rc3",
   "language": "julia",
   "name": "julia-0.4"
  },
  "language_info": {
   "file_extension": ".jl",
   "mimetype": "application/julia",
   "name": "julia",
   "version": "0.4.0"
  }
 },
 "nbformat": 4,
 "nbformat_minor": 0
}
